{
 "cells": [
  {
   "cell_type": "code",
   "execution_count": 87,
   "metadata": {
    "collapsed": false
   },
   "outputs": [],
   "source": [
    "def fib(n):\n",
    "    \"\"\"\n",
    "    Computes fibnocci sequence\n",
    "    Arguments: n - number to compute fibonacci sequence to\n",
    "    \"\"\"\n",
    "    if (n == 0):\n",
    "        return (0)\n",
    "    elif (n == 1):\n",
    "        return (1)\n",
    "    else:\n",
    "        return fib(n-1) + fib(n-2)\n",
    "\n",
    "\n",
    "\n",
    "def fib_file(n, fname):\n",
    "    \"\"\"\n",
    "    Writes fib sequence to file as per exam instructions.\n",
    "    Arguments: n - number to computer fibnocci sequence to; must be greater than 0\n",
    "               fname - file name in format as specified by exam\n",
    "    \"\"\"\n",
    "    if (n < 0):\n",
    "        print(\"Number must be greater than or equal to 0\")\n",
    "    else:\n",
    "        writer = open(fname + '_' + str(n) + '.txt', 'w')\n",
    "        writer.write('n' + '            ' + 'F_n' + '\\n')\n",
    "        for x in range(0,n+1):  \n",
    "        \n",
    "            writer.write(str(x) + '            ' + str(fib(x)) + '\\n')        \n",
    "       \n",
    "        writer.close()\n",
    "\n",
    "\n",
    "fib_file(6, 'fib')"
   ]
  },
  {
   "cell_type": "code",
   "execution_count": null,
   "metadata": {
    "collapsed": false
   },
   "outputs": [],
   "source": [
    "\n"
   ]
  },
  {
   "cell_type": "code",
   "execution_count": null,
   "metadata": {
    "collapsed": true
   },
   "outputs": [],
   "source": []
  }
 ],
 "metadata": {
  "kernelspec": {
   "display_name": "Python 3",
   "language": "python",
   "name": "python3"
  },
  "language_info": {
   "codemirror_mode": {
    "name": "ipython",
    "version": 3
   },
   "file_extension": ".py",
   "mimetype": "text/x-python",
   "name": "python",
   "nbconvert_exporter": "python",
   "pygments_lexer": "ipython3",
   "version": "3.4.3"
  }
 },
 "nbformat": 4,
 "nbformat_minor": 0
}
